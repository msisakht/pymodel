{
 "cells": [
  {
   "cell_type": "code",
   "execution_count": null,
   "metadata": {},
   "outputs": [],
   "source": []
  },
  {
   "cell_type": "markdown",
   "metadata": {},
   "source": [
    "# 1. Search sequence and check for experimental/model structuers\n",
    "\n",
    "To identify if an experimental/model structure is already available for a protein sequence, PyProtModel searchs the protein data bank (https://www.rcsb.org/) and SWIS-MODEL (https://swissmodel.expasy.org/) databases. The search field can adopt any keywords and the accession or ID numbers related to the protein (NCBI, PDB, Ensemble, and UniProt) for the protein sequences as input. If there are multiple results per keyword, the results for each keyword highlighted with different colors. Below, BACE1 is the beta-secretase 1 gene symbol, adam10 is a protein name, and O60260 is an accession number of parkin protein. The 3D structure for the first item, P56817, has been showed."
   ]
  },
  {
   "cell_type": "markdown",
   "metadata": {},
   "source": [
    "![title](search_seq1.jpg)"
   ]
  },
  {
   "cell_type": "markdown",
   "metadata": {},
   "source": [
    "# 2. Searching for templates\n",
    "We used O14672 accession number and search for templates by functional domains."
   ]
  },
  {
   "cell_type": "markdown",
   "metadata": {},
   "source": [
    "![title](blast.jpg)"
   ]
  },
  {
   "cell_type": "markdown",
   "metadata": {},
   "source": [
    "# 3. Select, download, and compare target and template sequences\n",
    "By choosing \"Metallo-peptidase family M12B Reprolysin-like\" domain of ADAM10 protein, three templates selected and downladed. Here, the 3G42 structure has higher resolution than 6BDZ structure, but by comparing the sequences in terms of phylogeny, it turns out that the 6BDZ sequence is closer to the target sequence."
   ]
  },
  {
   "cell_type": "markdown",
   "metadata": {},
   "source": [
    "![title](select_temp2.jpg)"
   ]
  },
  {
   "cell_type": "markdown",
   "metadata": {},
   "source": [
    "# Alignment viewer\n",
    "To view a specific range and to see how the this range of sequence is aligned, the user can specify that range. In addition, the user can search for a specific sequence and see how the desired sequence is aligned."
   ]
  },
  {
   "cell_type": "markdown",
   "metadata": {},
   "source": [
    "![title](align_viewer.jpg)"
   ]
  },
  {
   "cell_type": "markdown",
   "metadata": {},
   "source": [
    "# Build model\n",
    "By building the models, the user can sort models based on the assessment methods. "
   ]
  },
  {
   "cell_type": "markdown",
   "metadata": {},
   "source": [
    "![title](build_model.jpg)"
   ]
  },
  {
   "cell_type": "markdown",
   "metadata": {},
   "source": [
    "# Evaluate models\n",
    "The user can evaluate models based on energy levels and dihedral angles (Phi and Psi). Generated plots are editable."
   ]
  },
  {
   "cell_type": "markdown",
   "metadata": {},
   "source": [
    "### Evaluate energy"
   ]
  },
  {
   "cell_type": "markdown",
   "metadata": {},
   "source": [
    "![title](evaluate1.jpg)"
   ]
  },
  {
   "cell_type": "markdown",
   "metadata": {},
   "source": [
    "![title](energy_plot.jpeg)"
   ]
  },
  {
   "cell_type": "markdown",
   "metadata": {},
   "source": [
    "### Evaluate Phi and Psi angels"
   ]
  },
  {
   "cell_type": "markdown",
   "metadata": {},
   "source": [
    "![title](evaluate2.jpg)"
   ]
  },
  {
   "cell_type": "markdown",
   "metadata": {},
   "source": [
    "![title](rama_plot.jpeg)"
   ]
  },
  {
   "cell_type": "code",
   "execution_count": null,
   "metadata": {},
   "outputs": [],
   "source": []
  }
 ],
 "metadata": {
  "kernelspec": {
   "display_name": "Python [conda env:root] *",
   "language": "python",
   "name": "conda-root-py"
  },
  "language_info": {
   "codemirror_mode": {
    "name": "ipython",
    "version": 3
   },
   "file_extension": ".py",
   "mimetype": "text/x-python",
   "name": "python",
   "nbconvert_exporter": "python",
   "pygments_lexer": "ipython3",
   "version": "3.6.4"
  }
 },
 "nbformat": 4,
 "nbformat_minor": 2
}
